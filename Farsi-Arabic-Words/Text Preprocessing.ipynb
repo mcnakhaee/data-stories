{
  "cells": [
    {
      "cell_type": "code",
      "source": [
        "#!pip install --user openpyxl"
      ],
      "outputs": [],
      "execution_count": 74,
      "metadata": {}
    },
    {
      "cell_type": "code",
      "source": [
        "#!pip install --user python-docx\n",
        "#!pip install  --user langdetect\n",
        "#!pip install --user hazm\n",
        "#!pip install --user spacy-langdetect\n",
        "\n",
        "#import spacy\n",
        "#from spacy_langdetect import LanguageDetector"
      ],
      "outputs": [],
      "execution_count": 6,
      "metadata": {}
    },
    {
      "cell_type": "code",
      "source": [
        "import pandas as pd\n",
        "import os\n",
        "import numpy\n",
        "import docx\n",
        "from docx import Document\n",
        "import hazm\n",
        "from langdetect import detect\n",
        "from langdetect import detect_langs"
      ],
      "outputs": [],
      "execution_count": 1,
      "metadata": {}
    },
    {
      "cell_type": "code",
      "source": [
        "with open('data/big_stop_word.txt' ,'r',encoding='UTF8') as f:\n",
        "    stop_words = f.read().split('\\n')"
      ],
      "outputs": [],
      "execution_count": 2,
      "metadata": {}
    },
    {
      "cell_type": "code",
      "source": [
        "from farsi_arabi import *"
      ],
      "outputs": [],
      "execution_count": 3,
      "metadata": {}
    },
    {
      "cell_type": "code",
      "source": [
        "from langdetect import detect\n",
        "from langdetect import detect_langs"
      ],
      "outputs": [],
      "execution_count": 4,
      "metadata": {}
    },
    {
      "cell_type": "code",
      "source": [
        "def preprocess_text_2(text):\n",
        "    text_list = text.strip('\\n').strip('|').split('\\n|')\n",
        "    text_cleaned = ' '.join(text_list)\n",
        "    text_list_cleaned = text_cleaned.split('\\n')\n",
        "    text_cleaned = ' '.join(text_list_cleaned)\n",
        "    text_list_cleaned = text_cleaned.split(' ')\n",
        "    return text_list_cleaned"
      ],
      "outputs": [],
      "execution_count": 5,
      "metadata": {}
    },
    {
      "cell_type": "code",
      "source": [
        "def detect_arabic_(word):\n",
        "    try:\n",
        "        if (arabic_word(word) == 'ar'):\n",
        "            return 'ar'\n",
        "        elif (arabic_word(word) == 'fa')  :\n",
        "            return 'fa'\n",
        "        else:\n",
        "            return detect(word)\n",
        "    except:\n",
        "        return 'no_val'\n",
        "def create_word_lang_dataset(word_list):\n",
        "    df = pd.DataFrame({'word':word_list})\n",
        "    df['lang'] = df['word'].apply(lambda x: detect_arabic_(x))\n",
        "    return df    \n",
        "\n",
        "def generate_text(df):\n",
        "    return df['poem'].str.cat(sep = ' ')\n",
        "\n",
        "def lang_correction(lang):\n",
        "    if lang == 'ur':\n",
        "        return 'fa'\n",
        "    else:\n",
        "        return lang\n",
        "def remove_stopwords(word_list):\n",
        "    filtered_words = [word for word in word_list if word not in stop_words]\n",
        "    return filtered_words\n",
        "\n"
      ],
      "outputs": [],
      "execution_count": 46,
      "metadata": {}
    },
    {
      "cell_type": "code",
      "source": [
        "def create_lang_word_dataset(df,poet,century):\n",
        "    poet_text = generate_text(df)\n",
        "    poet_word_list = preprocess_text_2(poet_text)\n",
        "    poet_word_list = remove_stopwords(poet_word_list)\n",
        "    poet_df = create_word_lang_dataset(poet_word_list)\n",
        "    poet_df = poet_df[poet_df['lang'] != 'no_val']\n",
        "    poet_df['lang'] = poet_df['lang'].apply(lambda x:lang_correction(x))\n",
        "    poet_df['poet'] = poet\n",
        "    poet_df['century'] = century\n",
        "    return poet_df"
      ],
      "outputs": [],
      "execution_count": 38,
      "metadata": {}
    },
    {
      "cell_type": "code",
      "source": [],
      "outputs": [],
      "execution_count": null,
      "metadata": {}
    },
    {
      "cell_type": "code",
      "source": [
        "fa_poetry = pd.read_csv('PoetryDataset/poems_with_more_info.tsv' ,sep = '\\t')\n",
        "fa_poetry.head()"
      ],
      "outputs": [
        {
          "output_type": "execute_result",
          "execution_count": 40,
          "data": {
            "text/html": [
              "<div>\n",
              "<style scoped>\n",
              "    .dataframe tbody tr th:only-of-type {\n",
              "        vertical-align: middle;\n",
              "    }\n",
              "\n",
              "    .dataframe tbody tr th {\n",
              "        vertical-align: top;\n",
              "    }\n",
              "\n",
              "    .dataframe thead th {\n",
              "        text-align: right;\n",
              "    }\n",
              "</style>\n",
              "<table border=\"1\" class=\"dataframe\">\n",
              "  <thead>\n",
              "    <tr style=\"text-align: right;\">\n",
              "      <th></th>\n",
              "      <th>poet</th>\n",
              "      <th>century</th>\n",
              "      <th>book_title</th>\n",
              "      <th>poem_title</th>\n",
              "      <th>poem</th>\n",
              "    </tr>\n",
              "  </thead>\n",
              "  <tbody>\n",
              "    <tr>\n",
              "      <td>0</td>\n",
              "      <td>رودکی</td>\n",
              "      <td>3</td>\n",
              "      <td>قصاید و قطعات</td>\n",
              "      <td>شمارهٔ ۱</td>\n",
              "      <td>گر من این دوستی تو ببرم تا لب گور    بزنم نعره...</td>\n",
              "    </tr>\n",
              "    <tr>\n",
              "      <td>1</td>\n",
              "      <td>رودکی</td>\n",
              "      <td>3</td>\n",
              "      <td>قصاید و قطعات</td>\n",
              "      <td>شمارهٔ ۲</td>\n",
              "      <td>به حق نالم ز هجر دوست زارا    سحرگاهان چو بر گ...</td>\n",
              "    </tr>\n",
              "    <tr>\n",
              "      <td>2</td>\n",
              "      <td>رودکی</td>\n",
              "      <td>3</td>\n",
              "      <td>قصاید و قطعات</td>\n",
              "      <td>شمارهٔ ۳</td>\n",
              "      <td>به نام نیک تو، خواجه، فریفته نشوم    که نام نی...</td>\n",
              "    </tr>\n",
              "    <tr>\n",
              "      <td>3</td>\n",
              "      <td>رودکی</td>\n",
              "      <td>3</td>\n",
              "      <td>قصاید و قطعات</td>\n",
              "      <td>شمارهٔ ۴</td>\n",
              "      <td>دلا، تا کی همی جویی منی را؟    چه داری دوست هر...</td>\n",
              "    </tr>\n",
              "    <tr>\n",
              "      <td>4</td>\n",
              "      <td>رودکی</td>\n",
              "      <td>3</td>\n",
              "      <td>قصاید و قطعات</td>\n",
              "      <td>شمارهٔ ۵</td>\n",
              "      <td>گرفت خواهم زلفین عنبرین ترا    به بوسه نقش‌کنم...</td>\n",
              "    </tr>\n",
              "  </tbody>\n",
              "</table>\n",
              "</div>"
            ],
            "text/plain": [
              "    poet  century     book_title poem_title  \\\n",
              "0  رودکی        3  قصاید و قطعات   شمارهٔ ۱   \n",
              "1  رودکی        3  قصاید و قطعات   شمارهٔ ۲   \n",
              "2  رودکی        3  قصاید و قطعات   شمارهٔ ۳   \n",
              "3  رودکی        3  قصاید و قطعات   شمارهٔ ۴   \n",
              "4  رودکی        3  قصاید و قطعات   شمارهٔ ۵   \n",
              "\n",
              "                                                poem  \n",
              "0  گر من این دوستی تو ببرم تا لب گور    بزنم نعره...  \n",
              "1  به حق نالم ز هجر دوست زارا    سحرگاهان چو بر گ...  \n",
              "2  به نام نیک تو، خواجه، فریفته نشوم    که نام نی...  \n",
              "3  دلا، تا کی همی جویی منی را؟    چه داری دوست هر...  \n",
              "4  گرفت خواهم زلفین عنبرین ترا    به بوسه نقش‌کنم...  "
            ]
          },
          "metadata": {}
        }
      ],
      "execution_count": 40,
      "metadata": {}
    },
    {
      "cell_type": "code",
      "source": [
        "fa_poetry.groupby(['poet', 'century']).count()"
      ],
      "outputs": [
        {
          "output_type": "execute_result",
          "execution_count": 42,
          "data": {
            "text/html": [
              "<div>\n",
              "<style scoped>\n",
              "    .dataframe tbody tr th:only-of-type {\n",
              "        vertical-align: middle;\n",
              "    }\n",
              "\n",
              "    .dataframe tbody tr th {\n",
              "        vertical-align: top;\n",
              "    }\n",
              "\n",
              "    .dataframe thead th {\n",
              "        text-align: right;\n",
              "    }\n",
              "</style>\n",
              "<table border=\"1\" class=\"dataframe\">\n",
              "  <thead>\n",
              "    <tr style=\"text-align: right;\">\n",
              "      <th></th>\n",
              "      <th></th>\n",
              "      <th>book_title</th>\n",
              "      <th>poem_title</th>\n",
              "      <th>poem</th>\n",
              "    </tr>\n",
              "    <tr>\n",
              "      <th>poet</th>\n",
              "      <th>century</th>\n",
              "      <th></th>\n",
              "      <th></th>\n",
              "      <th></th>\n",
              "    </tr>\n",
              "  </thead>\n",
              "  <tbody>\n",
              "    <tr>\n",
              "      <td>ابوسعید ابوالخیر</td>\n",
              "      <td>5</td>\n",
              "      <td>786</td>\n",
              "      <td>786</td>\n",
              "      <td>786</td>\n",
              "    </tr>\n",
              "    <tr>\n",
              "      <td>احمد شاملو</td>\n",
              "      <td>14</td>\n",
              "      <td>323</td>\n",
              "      <td>323</td>\n",
              "      <td>323</td>\n",
              "    </tr>\n",
              "    <tr>\n",
              "      <td>اسدی توسی</td>\n",
              "      <td>5</td>\n",
              "      <td>144</td>\n",
              "      <td>144</td>\n",
              "      <td>144</td>\n",
              "    </tr>\n",
              "    <tr>\n",
              "      <td>اقبال لاهوری</td>\n",
              "      <td>14</td>\n",
              "      <td>972</td>\n",
              "      <td>972</td>\n",
              "      <td>972</td>\n",
              "    </tr>\n",
              "    <tr>\n",
              "      <td>امیرخسرو دهلوی</td>\n",
              "      <td>8</td>\n",
              "      <td>825</td>\n",
              "      <td>825</td>\n",
              "      <td>825</td>\n",
              "    </tr>\n",
              "    <tr>\n",
              "      <td>...</td>\n",
              "      <td>...</td>\n",
              "      <td>...</td>\n",
              "      <td>...</td>\n",
              "      <td>...</td>\n",
              "    </tr>\n",
              "    <tr>\n",
              "      <td>هلالی جغتایی</td>\n",
              "      <td>9</td>\n",
              "      <td>353</td>\n",
              "      <td>353</td>\n",
              "      <td>353</td>\n",
              "    </tr>\n",
              "    <tr>\n",
              "      <td>وحشی</td>\n",
              "      <td>10</td>\n",
              "      <td>651</td>\n",
              "      <td>651</td>\n",
              "      <td>651</td>\n",
              "    </tr>\n",
              "    <tr>\n",
              "      <td>پروین اعتصامی</td>\n",
              "      <td>14</td>\n",
              "      <td>223</td>\n",
              "      <td>223</td>\n",
              "      <td>223</td>\n",
              "    </tr>\n",
              "    <tr>\n",
              "      <td>کامبیز صدیقی کسمایی</td>\n",
              "      <td>14</td>\n",
              "      <td>181</td>\n",
              "      <td>181</td>\n",
              "      <td>181</td>\n",
              "    </tr>\n",
              "    <tr>\n",
              "      <td>کسایی</td>\n",
              "      <td>4</td>\n",
              "      <td>114</td>\n",
              "      <td>114</td>\n",
              "      <td>114</td>\n",
              "    </tr>\n",
              "  </tbody>\n",
              "</table>\n",
              "<p>67 rows × 3 columns</p>\n",
              "</div>"
            ],
            "text/plain": [
              "                             book_title  poem_title  poem\n",
              "poet                century                              \n",
              "ابوسعید ابوالخیر    5               786         786   786\n",
              "احمد شاملو          14              323         323   323\n",
              "اسدی توسی           5               144         144   144\n",
              "اقبال لاهوری        14              972         972   972\n",
              "امیرخسرو دهلوی      8               825         825   825\n",
              "...                                 ...         ...   ...\n",
              "هلالی جغتایی        9               353         353   353\n",
              "وحشی                10              651         651   651\n",
              "پروین اعتصامی       14              223         223   223\n",
              "کامبیز صدیقی کسمایی 14              181         181   181\n",
              "کسایی               4               114         114   114\n",
              "\n",
              "[67 rows x 3 columns]"
            ]
          },
          "metadata": {}
        }
      ],
      "execution_count": 42,
      "metadata": {}
    },
    {
      "cell_type": "code",
      "source": [
        "list_poets = pd.unique(fa_poetry['poet'])\n",
        "list_poets"
      ],
      "outputs": [
        {
          "output_type": "execute_result",
          "execution_count": 41,
          "data": {
            "text/plain": [
              "array(['رودکی', 'فردوسی', 'کسایی', 'ناصرخسرو', 'منوچهری', 'فرخی سیستانی',\n",
              "       'مسعود سعد سلمان', 'ابوسعید ابوالخیر', 'باباطاهر',\n",
              "       'فخرالدین اسعد گرگانی', 'اسدی توسی', 'هجویری', 'خیام', 'نظامی',\n",
              "       'عطار', 'سنایی', 'خاقانی', 'انوری', 'عبدالواسع جبلی',\n",
              "       'نصرالله منشی', 'مهستی گنجوی', 'باباافضل کاشانی', 'مولوی', 'سعدی',\n",
              "       'خواجوی کرمانی', 'عراقی', 'سیف فرغانی', 'حافظ', 'اوحدی',\n",
              "       'شیخ محمود شبستری', 'عبید زاکانی', 'امیرخسرو دهلوی', 'سلمان ساوجی',\n",
              "       'شاه نعمت\\u200cالله ولی', 'جامی', 'هلالی جغتایی', 'وحشی',\n",
              "       'محتشم کاشانی', 'شیخ بهایی', 'عرفی', 'رضی\\u200cالدین آرتیمانی',\n",
              "       'صائب تبریزی', 'فیض کاشانی', 'بیدل دهلوی', 'هاتف اصفهانی',\n",
              "       'فروغی بسطامی', 'قاآنی', 'ملا هادی سبزواری', 'پروین اعتصامی',\n",
              "       'ملک\\u200cالشعرای بهار', 'شهریار', 'رهی معیری', 'اقبال لاهوری',\n",
              "       'خلیل\\u200cالله خلیلی', 'شاطرعباس صبوحی',\n",
              "       'نیما یوشیج ( آوای آزاد )', 'احمد شاملو', 'سهراب سپهری',\n",
              "       'فروغ فرخزاد', 'سیمین بهبهانی', 'مهدی اخوان ثالث',\n",
              "       'محمدحسن بارق شفیعی', 'شیون فومنی', 'کامبیز صدیقی کسمایی',\n",
              "       'بهرام سالکی', 'عبدالقهّار عاصی', 'اِ لیـــار    (جبار محمدی )'],\n",
              "      dtype=object)"
            ]
          },
          "metadata": {}
        }
      ],
      "execution_count": 41,
      "metadata": {}
    },
    {
      "cell_type": "code",
      "source": [
        "len(list_poets)"
      ],
      "outputs": [
        {
          "output_type": "execute_result",
          "execution_count": 43,
          "data": {
            "text/plain": [
              "67"
            ]
          },
          "metadata": {}
        }
      ],
      "execution_count": 43,
      "metadata": {}
    },
    {
      "cell_type": "code",
      "source": [
        "poetry_lang_word_df = pd.DataFrame()\n",
        "for poet in list_poets[0:2]:\n",
        "    df = fa_poetry[fa_poetry['poet'] == poet]\n",
        "    century = df.iloc[1,1]\n",
        "    poet_lang_df = create_lang_word_dataset(df,poet,century)\n",
        "    poetry_lang_word_df = pd.concat([poetry_lang_word_df,poet_lang_df],axis = 0)\n",
        "    "
      ],
      "outputs": [],
      "execution_count": 47,
      "metadata": {}
    },
    {
      "cell_type": "code",
      "source": [
        "for poet in list_poets[2:10]:\n",
        "    df = fa_poetry[fa_poetry['poet'] == poet]\n",
        "    century = df.iloc[1,1]\n",
        "    poet_lang_df = create_lang_word_dataset(df,poet,century)\n",
        "    poetry_lang_word_df = pd.concat([poetry_lang_word_df,poet_lang_df],axis = 0)\n",
        "    "
      ],
      "outputs": [],
      "execution_count": 53,
      "metadata": {}
    },
    {
      "cell_type": "code",
      "source": [
        "for poet in list_poets[10:20]:\n",
        "    df = fa_poetry[fa_poetry['poet'] == poet]\n",
        "    century = df.iloc[1,1]\n",
        "    poet_lang_df = create_lang_word_dataset(df,poet,century)\n",
        "    poetry_lang_word_df = pd.concat([poetry_lang_word_df,poet_lang_df],axis = 0)\n",
        "    "
      ],
      "outputs": [],
      "execution_count": 58,
      "metadata": {}
    },
    {
      "cell_type": "code",
      "source": [
        "poetry_lang_word_df.lang.value_counts(normalize = True)"
      ],
      "outputs": [
        {
          "output_type": "execute_result",
          "execution_count": 66,
          "data": {
            "text/plain": [
              "fa    7.343975e-01\n",
              "ar    2.655386e-01\n",
              "so    3.851636e-05\n",
              "en    2.257855e-05\n",
              "cy    1.138415e-06\n",
              "fr    7.589430e-07\n",
              "vi    1.897358e-07\n",
              "lt    1.897358e-07\n",
              "fi    1.897358e-07\n",
              "ca    1.897358e-07\n",
              "es    1.897358e-07\n",
              "Name: lang, dtype: float64"
            ]
          },
          "metadata": {}
        }
      ],
      "execution_count": 66,
      "metadata": {}
    },
    {
      "cell_type": "code",
      "source": [
        "poetry_lang_word_df.tail()"
      ],
      "outputs": [
        {
          "output_type": "execute_result",
          "execution_count": 68,
          "data": {
            "text/html": [
              "<div>\n",
              "<style scoped>\n",
              "    .dataframe tbody tr th:only-of-type {\n",
              "        vertical-align: middle;\n",
              "    }\n",
              "\n",
              "    .dataframe tbody tr th {\n",
              "        vertical-align: top;\n",
              "    }\n",
              "\n",
              "    .dataframe thead th {\n",
              "        text-align: right;\n",
              "    }\n",
              "</style>\n",
              "<table border=\"1\" class=\"dataframe\">\n",
              "  <thead>\n",
              "    <tr style=\"text-align: right;\">\n",
              "      <th></th>\n",
              "      <th>word</th>\n",
              "      <th>lang</th>\n",
              "      <th>poet</th>\n",
              "      <th>century</th>\n",
              "    </tr>\n",
              "  </thead>\n",
              "  <tbody>\n",
              "    <tr>\n",
              "      <td>18803</td>\n",
              "      <td>خوشبختی</td>\n",
              "      <td>fa</td>\n",
              "      <td>اِ لیـــار    (جبار محمدی )</td>\n",
              "      <td>15</td>\n",
              "    </tr>\n",
              "    <tr>\n",
              "      <td>18804</td>\n",
              "      <td>است.</td>\n",
              "      <td>fa</td>\n",
              "      <td>اِ لیـــار    (جبار محمدی )</td>\n",
              "      <td>15</td>\n",
              "    </tr>\n",
              "    <tr>\n",
              "      <td>18805</td>\n",
              "      <td>همراه</td>\n",
              "      <td>fa</td>\n",
              "      <td>اِ لیـــار    (جبار محمدی )</td>\n",
              "      <td>15</td>\n",
              "    </tr>\n",
              "    <tr>\n",
              "      <td>18806</td>\n",
              "      <td>خدا</td>\n",
              "      <td>fa</td>\n",
              "      <td>اِ لیـــار    (جبار محمدی )</td>\n",
              "      <td>15</td>\n",
              "    </tr>\n",
              "    <tr>\n",
              "      <td>18807</td>\n",
              "      <td>رَو.</td>\n",
              "      <td>fa</td>\n",
              "      <td>اِ لیـــار    (جبار محمدی )</td>\n",
              "      <td>15</td>\n",
              "    </tr>\n",
              "  </tbody>\n",
              "</table>\n",
              "</div>"
            ],
            "text/plain": [
              "          word lang                         poet  century\n",
              "18803  خوشبختی   fa  اِ لیـــار    (جبار محمدی )       15\n",
              "18804     است.   fa  اِ لیـــار    (جبار محمدی )       15\n",
              "18805    همراه   fa  اِ لیـــار    (جبار محمدی )       15\n",
              "18806      خدا   fa  اِ لیـــار    (جبار محمدی )       15\n",
              "18807     رَو.   fa  اِ لیـــار    (جبار محمدی )       15"
            ]
          },
          "metadata": {}
        }
      ],
      "execution_count": 68,
      "metadata": {}
    },
    {
      "cell_type": "code",
      "source": [
        "poetry_lang_word_df.to_csv('poetry_lang_word_df.csv',index = False)"
      ],
      "outputs": [],
      "execution_count": 69,
      "metadata": {}
    },
    {
      "cell_type": "code",
      "source": [
        "poetry_lang_word_df.to_csv('poetry_lang_word_df_index.csv')"
      ],
      "outputs": [],
      "execution_count": 70,
      "metadata": {}
    },
    {
      "cell_type": "code",
      "source": [
        "poetry_lang_word_df.tail()"
      ],
      "outputs": [
        {
          "output_type": "execute_result",
          "execution_count": 55,
          "data": {
            "text/html": [
              "<div>\n",
              "<style scoped>\n",
              "    .dataframe tbody tr th:only-of-type {\n",
              "        vertical-align: middle;\n",
              "    }\n",
              "\n",
              "    .dataframe tbody tr th {\n",
              "        vertical-align: top;\n",
              "    }\n",
              "\n",
              "    .dataframe thead th {\n",
              "        text-align: right;\n",
              "    }\n",
              "</style>\n",
              "<table border=\"1\" class=\"dataframe\">\n",
              "  <thead>\n",
              "    <tr style=\"text-align: right;\">\n",
              "      <th></th>\n",
              "      <th>word</th>\n",
              "      <th>lang</th>\n",
              "      <th>poet</th>\n",
              "      <th>century</th>\n",
              "    </tr>\n",
              "  </thead>\n",
              "  <tbody>\n",
              "    <tr>\n",
              "      <td>61110</td>\n",
              "      <td>خسرو</td>\n",
              "      <td>fa</td>\n",
              "      <td>فخرالدین اسعد گرگانی</td>\n",
              "      <td>5</td>\n",
              "    </tr>\n",
              "    <tr>\n",
              "      <td>61111</td>\n",
              "      <td>گشته</td>\n",
              "      <td>fa</td>\n",
              "      <td>فخرالدین اسعد گرگانی</td>\n",
              "      <td>5</td>\n",
              "    </tr>\n",
              "    <tr>\n",
              "      <td>61112</td>\n",
              "      <td>کام</td>\n",
              "      <td>fa</td>\n",
              "      <td>فخرالدین اسعد گرگانی</td>\n",
              "      <td>5</td>\n",
              "    </tr>\n",
              "    <tr>\n",
              "      <td>61113</td>\n",
              "      <td>دلت</td>\n",
              "      <td>fa</td>\n",
              "      <td>فخرالدین اسعد گرگانی</td>\n",
              "      <td>5</td>\n",
              "    </tr>\n",
              "    <tr>\n",
              "      <td>61114</td>\n",
              "      <td>عدوى</td>\n",
              "      <td>ar</td>\n",
              "      <td>فخرالدین اسعد گرگانی</td>\n",
              "      <td>5</td>\n",
              "    </tr>\n",
              "  </tbody>\n",
              "</table>\n",
              "</div>"
            ],
            "text/plain": [
              "       word lang                  poet  century\n",
              "61110  خسرو   fa  فخرالدین اسعد گرگانی        5\n",
              "61111  گشته   fa  فخرالدین اسعد گرگانی        5\n",
              "61112   کام   fa  فخرالدین اسعد گرگانی        5\n",
              "61113   دلت   fa  فخرالدین اسعد گرگانی        5\n",
              "61114  عدوى   ar  فخرالدین اسعد گرگانی        5"
            ]
          },
          "metadata": {}
        }
      ],
      "execution_count": 55,
      "metadata": {}
    }
  ],
  "metadata": {
    "kernelspec": {
      "name": "python3",
      "language": "python",
      "display_name": "Python 3"
    },
    "language_info": {
      "name": "python",
      "version": "3.7.3",
      "mimetype": "text/x-python",
      "codemirror_mode": {
        "name": "ipython",
        "version": 3
      },
      "pygments_lexer": "ipython3",
      "nbconvert_exporter": "python",
      "file_extension": ".py"
    },
    "kernel_info": {
      "name": "python3"
    },
    "nteract": {
      "version": "0.15.0"
    }
  },
  "nbformat": 4,
  "nbformat_minor": 2
}